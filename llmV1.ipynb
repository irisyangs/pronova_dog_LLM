{
 "cells": [
  {
   "cell_type": "markdown",
   "metadata": {},
   "source": [
    "# Pronova LLM V1 #\n",
    "## Use this notebook to do the following ##\n",
    "- Create Qdrant collections\n",
    "- Chunk text files into smaller chunks\n",
    "- Create embeddings for data chunks and querys\n",
    "- Delete qdrant vectors\n",
    "- Run the current model on a query"
   ]
  },
  {
   "cell_type": "code",
   "execution_count": null,
   "metadata": {},
   "outputs": [],
   "source": [
    "# Load require librarys\n",
    "import os\n",
    "from qdrant_client import QdrantClient\n",
    "from qdrant_client.http import models\n",
    "from openai import OpenAI\n",
    "from dotenv import load_dotenv\n",
    "from IPython.display import Markdown, display\n",
    "\n",
    "# Load environment variables from .env file\n",
    "load_dotenv()"
   ]
  },
  {
   "cell_type": "markdown",
   "metadata": {},
   "source": [
    "### Setup Qdrant connection ###"
   ]
  },
  {
   "cell_type": "code",
   "execution_count": null,
   "metadata": {},
   "outputs": [],
   "source": [
    "# Get the Qdrant API key from the environment variable\n",
    "Qdrant_api_key = os.getenv('Qdrant_API_KEY')\n",
    "if not Qdrant_api_key:\n",
    "    raise ValueError(\"No Qdrant API key found in environment variables\")\n",
    "Qdrant_url = os.getenv('Qdrant_URL')\n",
    "if not Qdrant_url:\n",
    "    raise ValueError(\"No Qdrant URL found in environment variables\")\n",
    "\n",
    "\n",
    "# Initialize Qdrant client\n",
    "try:\n",
    "    Qclient = QdrantClient(\n",
    "        url= Qdrant_url,\n",
    "        api_key=Qdrant_api_key\n",
    "    )\n",
    "    print(\"Successfully connected to Qdrant\")\n",
    "except Exception as e:\n",
    "    print(f\"Failed to connect to Qdrant: {e}\")\n",
    "    raise"
   ]
  },
  {
   "cell_type": "markdown",
   "metadata": {},
   "source": [
    "### Setup OpenAI connection ###"
   ]
  },
  {
   "cell_type": "code",
   "execution_count": null,
   "metadata": {},
   "outputs": [],
   "source": [
    "# Get the OpenAI API key from the environment variable\n",
    "OpenAI_api_key = os.getenv('OPENAI_API_KEY')\n",
    "if not OpenAI_api_key:\n",
    "    raise ValueError(\"No OpenAI API key found in environment variables\")\n",
    "\n",
    "OpenAI.api_key = OpenAI_api_key"
   ]
  },
  {
   "cell_type": "markdown",
   "metadata": {},
   "source": [
    "### Creating a Qdrant Collection (function) ###"
   ]
  },
  {
   "cell_type": "code",
   "execution_count": null,
   "metadata": {},
   "outputs": [],
   "source": [
    "#Create collection\n",
    "def create_qdrant_collection(collection_name):\n",
    "    try:\n",
    "        Qclient.create_collection(\n",
    "            collection_name=collection_name,\n",
    "            vectors_config=models.VectorParams(size=1536, distance=models.Distance.COSINE),\n",
    "        )\n",
    "        print(f\"Collection '{collection_name}' created successfully\")\n",
    "    except Exception as e:\n",
    "        print(f\"Failed to create collection '{collection_name}': {e}\")\n",
    "        raise"
   ]
  },
  {
   "cell_type": "markdown",
   "metadata": {},
   "source": [
    "### Get an OpenAI embedding from a text segment (Function) ###"
   ]
  },
  {
   "cell_type": "code",
   "execution_count": null,
   "metadata": {},
   "outputs": [],
   "source": [
    "# Function to get the embedding of a text\n",
    "def get_embedding(text):\n",
    "    client = OpenAI()\n",
    "    response = client.embeddings.create(\n",
    "        model=\"text-embedding-ada-002\",\n",
    "        input=text\n",
    "    )\n",
    "    return response.data[0].embedding"
   ]
  },
  {
   "cell_type": "markdown",
   "metadata": {},
   "source": [
    "### Turn a file into chunks (Function) ###"
   ]
  },
  {
   "cell_type": "code",
   "execution_count": null,
   "metadata": {},
   "outputs": [],
   "source": [
    "# Function to read a text file and chunk its content\n",
    "def chunk_text_from_file(file_path, chunk_size=400):\n",
    "    with open(file_path, 'r', encoding='utf-8') as file:\n",
    "        text = file.read()\n",
    "    return [text[i:i + chunk_size] for i in range(0, len(text), chunk_size)]"
   ]
  },
  {
   "cell_type": "markdown",
   "metadata": {},
   "source": [
    "### Get embedding from a list of chunks (Function) ###"
   ]
  },
  {
   "cell_type": "code",
   "execution_count": null,
   "metadata": {},
   "outputs": [],
   "source": [
    "# Function to get embeddings for a list of text chunks\n",
    "def get_embeddings_for_chunks(chunks):\n",
    "    embeddings = []\n",
    "    for chunk in chunks:\n",
    "        embedding = get_embedding(chunk)\n",
    "        embeddings.append(embedding)\n",
    "    return embeddings"
   ]
  },
  {
   "cell_type": "markdown",
   "metadata": {},
   "source": [
    "### Upsert lists of documents to Qdrant (Function) ###\n",
    "#### Mind the parameters ####"
   ]
  },
  {
   "cell_type": "code",
   "execution_count": 45,
   "metadata": {},
   "outputs": [],
   "source": [
    "# function to upsert embeddings into Qdrant\n",
    "# def upsert_embeddings(collection_name, embeddings, chunks):\n",
    "def upsert_embeddings(collection_name, embeddings, chunks, files):\n",
    "\n",
    "    points = []\n",
    "    for i in range(len(embeddings)):\n",
    "        points.append(\n",
    "            {\n",
    "                \"id\": i,\n",
    "                \"vector\": embeddings[i],\n",
    "                \"payload\": {\n",
    "                    \"text\": chunks[i],   # Attach the chunk as payload\n",
    "                    \"source_url\": files[i]  # Add the source URL\n",
    "                }            \n",
    "            }\n",
    "        )\n",
    "        # print(f\"{i}: {files[i]}\")\n",
    "\n",
    "    # print('not actually upserting lol')\n",
    "    # return\n",
    "\n",
    "\n",
    "    try:\n",
    "        Qclient.upsert(\n",
    "            collection_name=collection_name,\n",
    "            points=points\n",
    "        )\n",
    "        print(\"Embeddings upserted successfully\")\n",
    "    except Exception as e:\n",
    "        print(f\"Failed to upsert embeddings: {e}\")\n",
    "        raise"
   ]
  },
  {
   "cell_type": "markdown",
   "metadata": {},
   "source": [
    "### Retrieve similar chunks from query (Function) ###"
   ]
  },
  {
   "cell_type": "code",
   "execution_count": null,
   "metadata": {},
   "outputs": [],
   "source": [
    "def retrieve_relevant_chunks(collection_name, query, top_k=5):\n",
    "    query_embedding = get_embedding(query)\n",
    "    \n",
    "    search_result = Qclient.search(\n",
    "        collection_name=collection_name,\n",
    "        query_vector=query_embedding,\n",
    "        limit=top_k\n",
    "    )\n",
    "\n",
    "    contexts = [result.payload[\"text\"] for result in search_result]\n",
    "    urls = [result.payload.get(\"source_url\") for result in search_result]\n",
    "    \n",
    "    return contexts, urls\n",
    "\n",
    "    # return [result.payload[\"text\"] for result in search_result]"
   ]
  },
  {
   "cell_type": "markdown",
   "metadata": {},
   "source": [
    "### Generate Response from Query (Function) ###"
   ]
  },
  {
   "cell_type": "code",
   "execution_count": null,
   "metadata": {},
   "outputs": [],
   "source": [
    "import numpy as np\n",
    "\n",
    "def generate_response(collection_name, query):\n",
    "    context, urls = retrieve_relevant_chunks(collection_name, query)\n",
    "    unique_urls = np.unique(urls)\n",
    "\n",
    "    system_role = \"You are a specialized assistant that only provides advice on dog-related veterinary care. If a user asks about any other animal or topic outside of dog health, politely decline to answer and remind them that you only provide information about dogs. If you don't know the answer to a question, let the user know that you're not sure and suggest that they consult a veterinarian for more information.\"\n",
    "\n",
    "    # Combine retrieved chunks into a single string\n",
    "    context_text = \"\\n\".join(context)\n",
    "\n",
    "    # Generate a response using GPT-4\n",
    "    client = OpenAI()\n",
    "    completion = client.chat.completions.create(\n",
    "        model=\"gpt-4o-mini-2024-07-18\",\n",
    "        messages=[\n",
    "            {\"role\": \"system\", \"content\": system_role},\n",
    "            {\"role\": \"user\", \"content\": \"context\" + context_text},\n",
    "            {\"role\": \"user\", \"content\": query}\n",
    "        ]\n",
    "    )\n",
    "    return completion.choices[0].message, unique_urls"
   ]
  },
  {
   "cell_type": "code",
   "execution_count": 48,
   "metadata": {},
   "outputs": [
    {
     "data": {
      "text/plain": [
       "CollectionsResponse(collections=[])"
      ]
     },
     "execution_count": 48,
     "metadata": {},
     "output_type": "execute_result"
    }
   ],
   "source": [
    "Qclient.get_collections()"
   ]
  },
  {
   "cell_type": "markdown",
   "metadata": {},
   "source": [
    "### Delete all entries in a collection (Function) ###\n",
    "*BE CAREFUL WITH THIS*"
   ]
  },
  {
   "cell_type": "code",
   "execution_count": null,
   "metadata": {},
   "outputs": [],
   "source": [
    "def delete_collection(collection_name):\n",
    "    confirmation = input(\"Type 'DELETE' to confirm deletion of entries in \" + collection_name + \". This cannot be undone. Type anything else to abort\")\n",
    "    if confirmation == \"DELETE\" :\n",
    "        try:\n",
    "            Qclient.delete_collection(collection_name=collection_name)\n",
    "            print(f\"Collection '{collection_name}' deleted successfully\")\n",
    "            create_qdrant_collection(collection_name)\n",
    "        except Exception as e:\n",
    "            print(f\"Failed to delete collection '{collection_name}': {e}\")\n",
    "            raise\n",
    "    else:\n",
    "        print(\"Deletion aborted\")"
   ]
  },
  {
   "cell_type": "markdown",
   "metadata": {},
   "source": [
    "### Markdown Print Function ###"
   ]
  },
  {
   "cell_type": "code",
   "execution_count": null,
   "metadata": {},
   "outputs": [],
   "source": [
    "def print_markdown(md_text):\n",
    "    display(Markdown(md_text))"
   ]
  },
  {
   "cell_type": "markdown",
   "metadata": {},
   "source": [
    "## Playground ##\n",
    "Use this section to test functions and play around with the model"
   ]
  },
  {
   "cell_type": "code",
   "execution_count": null,
   "metadata": {},
   "outputs": [],
   "source": [
    "# Define the folder paths\n",
    "scraping_demo_folder = 'scrapingDemo'\n",
    "scraped_files_folder = os.path.join(scraping_demo_folder, 'ScrapedFiles_petMD_allergies')\n",
    "                                    \n",
    "\n",
    "#numbver of files in the folder\n",
    "num_files = len([name for name in os.listdir(scraped_files_folder) if os.path.isfile(os.path.join(scraped_files_folder, name))])\n",
    "current_file = 1\n",
    "\n",
    "all_files = []\n",
    "all_embeddings = []\n",
    "all_chunks = []\n",
    "\n",
    "for filename in os.listdir(scraped_files_folder):\n",
    "    if current_file > 10:\n",
    "        break\n",
    "    file_path = os.path.join(scraped_files_folder, filename)\n",
    "    print(f\"Processing file {current_file} of {num_files}: {filename}\")\n",
    "    \n",
    "    \n",
    "    # # Chunk the file\n",
    "    chunks = chunk_text_from_file(file_path)\n",
    "    if not chunks:  # Skip if no chunks are generated\n",
    "        print(f\"No chunks generated for file: {filename}\")\n",
    "        continue\n",
    "    \n",
    "    # Get embeddings for the chunks\n",
    "    embeddings = get_embeddings_for_chunks(chunks)\n",
    "    \n",
    "    # Append the embeddings and chunks to the lists\n",
    "    all_embeddings.extend(embeddings)\n",
    "    all_chunks.extend(chunks)\n",
    "    \n",
    "    filename_repeated = [filename] * len(chunks)\n",
    "    all_files.extend(filename_repeated)\n",
    "\n",
    "    current_file += 1\n"
   ]
  },
  {
   "cell_type": "code",
   "execution_count": null,
   "metadata": {},
   "outputs": [],
   "source": [
    "\n",
    "print(\"Upserting...\")\n",
    "collection_name = 'LLM_V2'  # Define your collection name\n",
    "\n",
    "# # TODO \n",
    "\n",
    "# # upsert_embeddings(collection_name, all_embeddings, all_chunks)\n",
    "upsert_embeddings(collection_name, all_embeddings, all_chunks, all_files)\n",
    "# print(len(all_embeddings), len(all_chunks), len(all_files))"
   ]
  },
  {
   "cell_type": "code",
   "execution_count": 36,
   "metadata": {},
   "outputs": [],
   "source": [
    "query = \"Tell me abt cytopoint for dogs?\"\n",
    "relevant_chunks = retrieve_relevant_chunks(\"LLM_V2\", query)\n",
    "# print(\"Relevant chunks:\" + str(relevant_chunks))\n",
    "\n",
    "response, urls = generate_response(\"LLM_V2\", query)\n",
    "print_markdown(response.content)\n",
    "\n",
    "print(f\"Here are the urls I used: \\n\", [url for url in urls])\n",
    "\n",
    "\n",
    "\n",
    "# print_markdown(generate_response(\"LLM_V1\", query).content)"
   ]
  },
  {
   "cell_type": "code",
   "execution_count": null,
   "metadata": {},
   "outputs": [],
   "source": [
    "delete_collection(\"LLM_V2\")"
   ]
  }
 ],
 "metadata": {
  "kernelspec": {
   "display_name": "rag_env",
   "language": "python",
   "name": "python3"
  },
  "language_info": {
   "codemirror_mode": {
    "name": "ipython",
    "version": 3
   },
   "file_extension": ".py",
   "mimetype": "text/x-python",
   "name": "python",
   "nbconvert_exporter": "python",
   "pygments_lexer": "ipython3",
   "version": "3.10.12"
  }
 },
 "nbformat": 4,
 "nbformat_minor": 2
}
